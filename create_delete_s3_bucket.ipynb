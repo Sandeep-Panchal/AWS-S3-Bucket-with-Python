{
 "cells": [
  {
   "cell_type": "code",
   "execution_count": null,
   "metadata": {},
   "outputs": [],
   "source": []
  },
  {
   "cell_type": "markdown",
   "metadata": {},
   "source": [
    "# Create S3 Bucket"
   ]
  },
  {
   "cell_type": "code",
   "execution_count": null,
   "metadata": {},
   "outputs": [],
   "source": []
  },
  {
   "cell_type": "markdown",
   "metadata": {},
   "source": [
    " - __*AWS CLI*__\n",
    "     - Install AWS CLI by following the below link as it varies from system to system.\n",
    "     - https://docs.aws.amazon.com/cli/v1/userguide/install-windows.html#awscli-install-windows-path\n",
    " - __*Get Access Key ID and Secret Access Key*__\n",
    "     - After logging in AWS account, in the AWS Console, in the top search bar, enter __*IAM*__ (iam)\n",
    "     - You will see related options. Select __*'IAM'*__ box. It is easily understandable which one to select.\n",
    "     - In the left panel, select __*Users*__\n",
    "     - In the top-right, click on the button __*Add users*__\n",
    "     - In the __*User name*__ box, enter the name.\n",
    "     - In the __*Select AWS credential type*__, select any or both the checkboxes as per your business requirements. I am selecting the 1st checkbox.\n",
    "     - In th left-right, click on the __*Next: Permissions*__ button.\n",
    "     - Under __*Set permissions*__, click on the __*Create Group button*__\n",
    "     - In the __*Group name*__ box, give the group name and then select one of the policy checkbox to have control over access. I am selecting __*AdministratorAccess*__\n",
    "     - In the left-right, click on the __*Create Group button*__\n",
    "     - In the lft-right, click on the __*Next: Tags*__, then __*Next: Review*__, then __*Create user*__\n",
    "     - Finally, you will the __*Access Key ID*__ and __*Secret Key*__. You can copy paste this data.\n",
    "     - You can even download CSV for the keys. This should not be shared with anyone. It should be confidential.\n",
    "     - We will need these keys to create buckets and add objects/files in it.\n",
    "     \n",
    " - __*Configure IAM user*__\n",
    "     - After getting __*Access Key ID*__ and __*Secret Access Key*__, in the CMD or anaconda prompt, type __*aws configure*__\n",
    "     - It will ask __*Access Key ID*__, __*Secret Access Key*__, __*Region Name*__ and __*Output Format*__, give them all.\n",
    "     \n",
    " - __*Note*__:\n",
    "     - If you get this error while install AWS CLI - \"ERROR: Could not install packages due to an EnvironmentError:.........\n",
    "Consider using the `--user` option or check the permissions.\"\n",
    "     - Then install with this code: __*!pip install awscli --upgrade --user*__\n",
    "     \n",
    "##### Refer to the video: https://www.youtube.com/watch?v=qGS9UiCFVbo&ab_channel=AWSMadeEasy"
   ]
  },
  {
   "cell_type": "markdown",
   "metadata": {},
   "source": [
    "### Install AWS CLI"
   ]
  },
  {
   "cell_type": "code",
   "execution_count": 15,
   "metadata": {},
   "outputs": [
    {
     "name": "stdout",
     "output_type": "stream",
     "text": [
      "Requirement already up-to-date: awscli in c:\\users\\sandeep\\appdata\\roaming\\python\\python38\\site-packages (1.22.24)\n",
      "Requirement already satisfied, skipping upgrade: s3transfer<0.6.0,>=0.5.0 in c:\\users\\sandeep\\appdata\\roaming\\python\\python38\\site-packages (from awscli) (0.5.0)\n",
      "Requirement already satisfied, skipping upgrade: rsa<4.8,>=3.1.2 in c:\\programdata\\anaconda3\\lib\\site-packages (from awscli) (4.7.2)\n",
      "Requirement already satisfied, skipping upgrade: colorama<0.4.4,>=0.2.5 in c:\\users\\sandeep\\appdata\\roaming\\python\\python38\\site-packages (from awscli) (0.4.3)\n",
      "Requirement already satisfied, skipping upgrade: botocore==1.23.24 in c:\\users\\sandeep\\appdata\\roaming\\python\\python38\\site-packages (from awscli) (1.23.24)\n",
      "Requirement already satisfied, skipping upgrade: PyYAML<5.5,>=3.10 in c:\\programdata\\anaconda3\\lib\\site-packages (from awscli) (5.3.1)\n",
      "Requirement already satisfied, skipping upgrade: docutils<0.16,>=0.10 in c:\\users\\sandeep\\appdata\\roaming\\python\\python38\\site-packages (from awscli) (0.15.2)\n",
      "Requirement already satisfied, skipping upgrade: pyasn1>=0.1.3 in c:\\programdata\\anaconda3\\lib\\site-packages (from rsa<4.8,>=3.1.2->awscli) (0.4.8)\n",
      "Requirement already satisfied, skipping upgrade: urllib3<1.27,>=1.25.4 in c:\\programdata\\anaconda3\\lib\\site-packages (from botocore==1.23.24->awscli) (1.25.11)\n",
      "Requirement already satisfied, skipping upgrade: python-dateutil<3.0.0,>=2.1 in c:\\programdata\\anaconda3\\lib\\site-packages (from botocore==1.23.24->awscli) (2.8.1)\n",
      "Requirement already satisfied, skipping upgrade: jmespath<1.0.0,>=0.7.1 in c:\\programdata\\anaconda3\\lib\\site-packages (from botocore==1.23.24->awscli) (0.10.0)\n",
      "Requirement already satisfied, skipping upgrade: six>=1.5 in c:\\programdata\\anaconda3\\lib\\site-packages (from python-dateutil<3.0.0,>=2.1->botocore==1.23.24->awscli) (1.15.0)\n"
     ]
    }
   ],
   "source": [
    "!pip install awscli --upgrade --user"
   ]
  },
  {
   "cell_type": "markdown",
   "metadata": {},
   "source": [
    "### Install boto3"
   ]
  },
  {
   "cell_type": "code",
   "execution_count": 1,
   "metadata": {},
   "outputs": [
    {
     "name": "stdout",
     "output_type": "stream",
     "text": [
      "Collecting boto3\n",
      "  Downloading boto3-1.20.24-py3-none-any.whl (131 kB)\n",
      "Requirement already satisfied, skipping upgrade: jmespath<1.0.0,>=0.7.1 in c:\\programdata\\anaconda3\\lib\\site-packages (from boto3) (0.10.0)\n",
      "Collecting botocore<1.24.0,>=1.23.24\n",
      "  Using cached botocore-1.23.24-py3-none-any.whl (8.4 MB)\n",
      "Collecting s3transfer<0.6.0,>=0.5.0\n",
      "  Using cached s3transfer-0.5.0-py3-none-any.whl (79 kB)\n",
      "Requirement already satisfied, skipping upgrade: python-dateutil<3.0.0,>=2.1 in c:\\programdata\\anaconda3\\lib\\site-packages (from botocore<1.24.0,>=1.23.24->boto3) (2.8.1)\n",
      "Requirement already satisfied, skipping upgrade: urllib3<1.27,>=1.25.4 in c:\\programdata\\anaconda3\\lib\\site-packages (from botocore<1.24.0,>=1.23.24->boto3) (1.25.11)\n",
      "Requirement already satisfied, skipping upgrade: six>=1.5 in c:\\programdata\\anaconda3\\lib\\site-packages (from python-dateutil<3.0.0,>=2.1->botocore<1.24.0,>=1.23.24->boto3) (1.15.0)\n",
      "Installing collected packages: botocore, s3transfer, boto3\n",
      "  Attempting uninstall: botocore\n",
      "    Found existing installation: botocore 1.19.63\n",
      "    Uninstalling botocore-1.19.63:\n",
      "      Successfully uninstalled botocore-1.19.63\n",
      "  Attempting uninstall: s3transfer\n",
      "    Found existing installation: s3transfer 0.3.7\n",
      "    Uninstalling s3transfer-0.3.7:\n",
      "      Successfully uninstalled s3transfer-0.3.7\n",
      "  Attempting uninstall: boto3\n",
      "    Found existing installation: boto3 1.16.52\n",
      "    Uninstalling boto3-1.16.52:\n",
      "      Successfully uninstalled boto3-1.16.52\n",
      "Successfully installed boto3-1.20.24 botocore-1.23.24 s3transfer-0.5.0\n"
     ]
    }
   ],
   "source": [
    "!pip install boto3 --upgrade"
   ]
  },
  {
   "cell_type": "markdown",
   "metadata": {},
   "source": [
    "### Function to create s3 bucket"
   ]
  },
  {
   "cell_type": "code",
   "execution_count": 3,
   "metadata": {},
   "outputs": [],
   "source": [
    "import boto3"
   ]
  },
  {
   "cell_type": "code",
   "execution_count": 8,
   "metadata": {},
   "outputs": [],
   "source": [
    "def create_s3_bucket(bucket_name, region_name=None):\n",
    "    \n",
    "    # connect to the s3 client\n",
    "    s3_client = boto3.client('s3')\n",
    "    \n",
    "    # if region name is explicitly mentioned, it will create with that region name.\n",
    "    # if region name is none, it will create with default region 'us-east-1'\n",
    "    if not region_name:    \n",
    "        response = s3_client.create_bucket(Bucket=bucket_name)\n",
    "    else:\n",
    "        response = s3_client.create_bucket(Bucket=bucket_name, \n",
    "                                CreateBucketConfiguration={'LocationConstraint':region_name})\n",
    "        \n",
    "    print('Successfully created S3 Bucket- {}'.format(bucket_name))\n",
    "    \n",
    "    return response"
   ]
  },
  {
   "cell_type": "code",
   "execution_count": 9,
   "metadata": {},
   "outputs": [
    {
     "name": "stdout",
     "output_type": "stream",
     "text": [
      "Successfully created S3 Bucket- first-bucket-555\n"
     ]
    }
   ],
   "source": [
    "response = create_s3_bucket('first-bucket-555')"
   ]
  },
  {
   "cell_type": "code",
   "execution_count": 10,
   "metadata": {},
   "outputs": [
    {
     "data": {
      "text/plain": [
       "{'ResponseMetadata': {'RequestId': 'G5VP1YN23FEMTH39',\n",
       "  'HostId': '89YvoGR4dRsBSKBlh8CaMgdZQG0bRD7rF82L1xxrY/kVWienEpGBWNhGiHURIdscB56U8oSQ/8g=',\n",
       "  'HTTPStatusCode': 200,\n",
       "  'HTTPHeaders': {'x-amz-id-2': '89YvoGR4dRsBSKBlh8CaMgdZQG0bRD7rF82L1xxrY/kVWienEpGBWNhGiHURIdscB56U8oSQ/8g=',\n",
       "   'x-amz-request-id': 'G5VP1YN23FEMTH39',\n",
       "   'date': 'Tue, 14 Dec 2021 11:01:11 GMT',\n",
       "   'location': '/first-bucket-555',\n",
       "   'server': 'AmazonS3',\n",
       "   'content-length': '0'},\n",
       "  'RetryAttempts': 0},\n",
       " 'Location': '/first-bucket-555'}"
      ]
     },
     "execution_count": 10,
     "metadata": {},
     "output_type": "execute_result"
    }
   ],
   "source": [
    "response"
   ]
  },
  {
   "cell_type": "code",
   "execution_count": null,
   "metadata": {},
   "outputs": [],
   "source": []
  },
  {
   "cell_type": "markdown",
   "metadata": {},
   "source": [
    "# Let us create another bucket and try to delete it with code"
   ]
  },
  {
   "cell_type": "code",
   "execution_count": 32,
   "metadata": {},
   "outputs": [
    {
     "name": "stdout",
     "output_type": "stream",
     "text": [
      "Successfully created S3 Bucket- bucket-to-delete-555\n"
     ]
    }
   ],
   "source": [
    "response_2 = create_s3_bucket('bucket-to-delete-555')"
   ]
  },
  {
   "cell_type": "markdown",
   "metadata": {},
   "source": [
    "## Check the number of buckets we have"
   ]
  },
  {
   "cell_type": "code",
   "execution_count": 36,
   "metadata": {},
   "outputs": [
    {
     "name": "stdout",
     "output_type": "stream",
     "text": [
      "Number of buckets: 2 \n",
      "\n",
      "Bucket Names: ['bucket-to-delete-555', 'first-bucket-555']\n"
     ]
    }
   ],
   "source": [
    "# connect to s3\n",
    "client = boto3.client('s3')\n",
    "\n",
    "# get list of buckets\n",
    "buckets_response = client.list_buckets()\n",
    "\n",
    "print('Number of buckets: {}'.format(len(buckets_response['Buckets'])), '\\n')\n",
    "print('Bucket Names: {}'.format([i['Name'] for i in buckets_response['Buckets']]))"
   ]
  },
  {
   "cell_type": "markdown",
   "metadata": {},
   "source": [
    "### Or you can use below code to get buckets"
   ]
  },
  {
   "cell_type": "code",
   "execution_count": 37,
   "metadata": {},
   "outputs": [
    {
     "name": "stdout",
     "output_type": "stream",
     "text": [
      "s3.Bucket(name='bucket-to-delete-555')\n",
      "s3.Bucket(name='first-bucket-555')\n"
     ]
    }
   ],
   "source": [
    "# connect to s3\n",
    "s3_resource = boto3.resource('s3')\n",
    "\n",
    "# get the buckets\n",
    "buckets = s3_resource.buckets.all()\n",
    "\n",
    "for bucket in buckets:\n",
    "    print(bucket)"
   ]
  },
  {
   "cell_type": "markdown",
   "metadata": {},
   "source": [
    "## Deleting bucket-to-delete-555"
   ]
  },
  {
   "cell_type": "code",
   "execution_count": 38,
   "metadata": {},
   "outputs": [
    {
     "data": {
      "text/plain": [
       "{'ResponseMetadata': {'RequestId': 'P3P1FDRTZYF9KNYJ',\n",
       "  'HostId': '72F0torA/zF9lIe/6nN+R0PMJba19MdTC1KksPliVa7U8paJVsmRa/stTuXrB7CrF4KwoSc2k9E=',\n",
       "  'HTTPStatusCode': 204,\n",
       "  'HTTPHeaders': {'x-amz-id-2': '72F0torA/zF9lIe/6nN+R0PMJba19MdTC1KksPliVa7U8paJVsmRa/stTuXrB7CrF4KwoSc2k9E=',\n",
       "   'x-amz-request-id': 'P3P1FDRTZYF9KNYJ',\n",
       "   'date': 'Tue, 14 Dec 2021 11:52:59 GMT',\n",
       "   'server': 'AmazonS3'},\n",
       "  'RetryAttempts': 0}}"
      ]
     },
     "execution_count": 38,
     "metadata": {},
     "output_type": "execute_result"
    }
   ],
   "source": [
    "bucket_delete = boto3.resource('s3')\n",
    "\n",
    "# select the bucket\n",
    "bucket = bucket_delete.Bucket('bucket-to-delete-555')\n",
    "\n",
    "# delete the bucket\n",
    "bucket.delete()"
   ]
  },
  {
   "cell_type": "code",
   "execution_count": 39,
   "metadata": {},
   "outputs": [],
   "source": [
    "# if want to delete only objects within bucket\n",
    "# bucket.objects.all().delete()"
   ]
  },
  {
   "cell_type": "markdown",
   "metadata": {},
   "source": [
    "### Now check how many buckets we have"
   ]
  },
  {
   "cell_type": "code",
   "execution_count": 40,
   "metadata": {},
   "outputs": [
    {
     "name": "stdout",
     "output_type": "stream",
     "text": [
      "Number of buckets: 1 \n",
      "\n",
      "Bucket Names: ['first-bucket-555']\n"
     ]
    }
   ],
   "source": [
    "# connect to s3\n",
    "client = boto3.client('s3')\n",
    "\n",
    "# get list of buckets\n",
    "buckets_response = client.list_buckets()\n",
    "\n",
    "print('Number of buckets: {}'.format(len(buckets_response['Buckets'])), '\\n')\n",
    "\n",
    "print('Bucket Names: {}'.format([i['Name'] for i in buckets_response['Buckets']]))"
   ]
  },
  {
   "cell_type": "markdown",
   "metadata": {},
   "source": [
    "### Successfully deleted"
   ]
  },
  {
   "cell_type": "code",
   "execution_count": null,
   "metadata": {},
   "outputs": [],
   "source": []
  }
 ],
 "metadata": {
  "kernelspec": {
   "display_name": "Python 3",
   "language": "python",
   "name": "python3"
  },
  "language_info": {
   "codemirror_mode": {
    "name": "ipython",
    "version": 3
   },
   "file_extension": ".py",
   "mimetype": "text/x-python",
   "name": "python",
   "nbconvert_exporter": "python",
   "pygments_lexer": "ipython3",
   "version": "3.8.5"
  }
 },
 "nbformat": 4,
 "nbformat_minor": 4
}
